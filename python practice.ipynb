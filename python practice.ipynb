{
 "cells": [
  {
   "cell_type": "code",
   "execution_count": 19,
   "metadata": {},
   "outputs": [
    {
     "name": "stdout",
     "output_type": "stream",
     "text": [
      "Enter the length of list 1 and list 2:-4\n",
      "Enter value1\n",
      "Enter value2\n",
      "Enter value3\n",
      "Enter value4\n",
      "[1, 2, 3, 4]\n",
      "Enter values4\n",
      "Enter values3\n",
      "Enter values2\n",
      "Enter values1\n",
      "[4, 3, 2, 1]\n",
      "Final list \n",
      "[4, 6, 6, 4]\n"
     ]
    }
   ],
   "source": [
    "l1=[]\n",
    "l2=[]\n",
    "l3=[]\n",
    "list1=int(input('Enter the length of list 1 and list 2:-'))\n",
    "for i in range(list1):\n",
    "    value=int(input('Enter value'))\n",
    "    l1.append(value)\n",
    "print(l1)\n",
    "for j in range(list1):\n",
    "    value1=int(input('Enter values'))\n",
    "    l2.append(value1)\n",
    "print(l2)\n",
    "\n",
    "for i in range(len(l1)):\n",
    "    l3.append(l1[i]*l2[i])\n",
    "print('Final list ')\n",
    "print(l3)"
   ]
  },
  {
   "cell_type": "code",
   "execution_count": null,
   "metadata": {},
   "outputs": [],
   "source": []
  },
  {
   "cell_type": "code",
   "execution_count": null,
   "metadata": {},
   "outputs": [],
   "source": []
  },
  {
   "cell_type": "code",
   "execution_count": null,
   "metadata": {},
   "outputs": [],
   "source": []
  }
 ],
 "metadata": {
  "kernelspec": {
   "display_name": "Python 3",
   "language": "python",
   "name": "python3"
  },
  "language_info": {
   "codemirror_mode": {
    "name": "ipython",
    "version": 3
   },
   "file_extension": ".py",
   "mimetype": "text/x-python",
   "name": "python",
   "nbconvert_exporter": "python",
   "pygments_lexer": "ipython3",
   "version": "3.7.4"
  }
 },
 "nbformat": 4,
 "nbformat_minor": 2
}
